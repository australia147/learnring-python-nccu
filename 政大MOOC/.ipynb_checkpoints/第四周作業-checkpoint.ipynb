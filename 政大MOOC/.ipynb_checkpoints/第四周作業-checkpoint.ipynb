{
 "cells": [
  {
   "cell_type": "code",
   "execution_count": 1,
   "metadata": {
    "collapsed": true
   },
   "outputs": [],
   "source": [
    "%matplotlib inline\n",
    "import numpy as np\n",
    "import matplotlib.pyplot as plt"
   ]
  },
  {
   "cell_type": "markdown",
   "metadata": {},
   "source": [
    " # 第一題：抽點系統\n",
    "老師想做一個抽點系統, 也就是按一個鍵就抽一位同學出來。某班同學有大雄、胖虎、小夫、宜靜、小杉。\n",
    "\n",
    "請幫老師寫個點名系統。\n",
    "\n",
    "Hint\n",
    "interact_manual 用到的函數可以不用有任何參數\n",
    "np.random.choice 會從一個 list 隨機取一個元素出來\n"
   ]
  },
  {
   "cell_type": "code",
   "execution_count": 2,
   "metadata": {},
   "outputs": [
    {
     "data": {
      "application/vnd.jupyter.widget-view+json": {
       "model_id": "6df38cfb99c64559866e7799492fedbe",
       "version_major": 2,
       "version_minor": 0
      },
      "text/plain": [
       "A Jupyter Widget"
      ]
     },
     "metadata": {},
     "output_type": "display_data"
    },
    {
     "data": {
      "text/plain": [
       "<function __main__.抽籤>"
      ]
     },
     "execution_count": 2,
     "metadata": {},
     "output_type": "execute_result"
    }
   ],
   "source": [
    "from ipywidgets import interact_manual\n",
    "def 抽籤():\n",
    "    student = ['大雄', '胖虎', '小夫', '宜靜', '小杉']#好有年紀的稱號...一錠是老師自己出的XDD\n",
    "    print(np.random.choice(student))\n",
    "interact_manual(抽籤)"
   ]
  },
  {
   "cell_type": "markdown",
   "metadata": {},
   "source": [
    "# 第二題：變長變短\n",
    "做一個數值滑桿, 數字變大某個 bar 就變長或變短。\n",
    "bar = \"■\"\n",
    "\n",
    "Hint\n",
    "需要先寫一個輸入數字會印出對應長度bar的function"
   ]
  },
  {
   "cell_type": "code",
   "execution_count": 3,
   "metadata": {},
   "outputs": [
    {
     "data": {
      "application/vnd.jupyter.widget-view+json": {
       "model_id": "f7f8eb5dcb5443a58a45693438659f17",
       "version_major": 2,
       "version_minor": 0
      },
      "text/plain": [
       "A Jupyter Widget"
      ]
     },
     "metadata": {},
     "output_type": "display_data"
    },
    {
     "data": {
      "text/plain": [
       "<function __main__.bar>"
      ]
     },
     "execution_count": 3,
     "metadata": {},
     "output_type": "execute_result"
    }
   ],
   "source": [
    "from ipywidgets import interact\n",
    "def bar(n):\n",
    "    x = n * '■ '\n",
    "    print(x)\n",
    "interact(bar ,n =(1,50))"
   ]
  },
  {
   "cell_type": "markdown",
   "metadata": {},
   "source": [
    "# 第三題：考試加權分數\n",
    "小明今年考大學\n",
    "依照 [國, 英, 數甲, 數乙, 物, 化, 生, 歷, 地, 公]\n",
    "他的分數分別是 [86.5, 79.4, 88.2, 96.5, 86.3, 76.8, 96.1, 78.5, 82.4, 88.6]\n",
    "而他所想申請的大學各系採計的科目權重分別是\n",
    "{\n",
    "\"土語系\": [2, 2, 0, 1, 0, 0, 0, 1, 1, 0],\n",
    "\"財政系\": [1, 1.5, 0, 1.5, 0, 0, 0, 0, 0, 0],\n",
    "\"金融系\": [1, 1.5, 0, 2, 0, 0, 0, 0, 0, 0],\n",
    "\"國貿系\": [1.5, 2, 0, 2, 0, 0, 0, 0, 0, 0],\n",
    "\"會計系\": [1.5, 2, 0, 2, 0, 0, 0, 1, 1, 0],\n",
    "\"法律系\": [1, 2, 0, 1, 0, 0, 0, 1, 0, 1],\n",
    "\"公行系\": [1, 1.5, 0, 1.25, 0, 0, 0, 0, 0, 1.25],\n",
    "\"應數系\": [1, 1, 1.5, 0, 1, 1, 0, 0, 0, 0],\n",
    "\"教育系\": [1.5, 2, 0, 1.25, 0, 0, 0, 1, 1, 0]\n",
    "} \n",
    "\n",
    "請幫他做出一個互動介面\n",
    "讓他在選擇科系後可以看到他的加權分數\n",
    "取到小數點後第一位\n",
    "\n",
    "範例輸出\n",
    "範例圖示1範例圖示2\n",
    "\n",
    "Hint\n",
    "\n",
    "需要先寫出一個函數 輸入某個科系的名稱後 會告訴你分數是多少\n",
    "用 numpy array 可以快速的算出加權分數\n",
    "如何只顯示到小數點第一位可以參考影片 0407 互動範例BMI計算器\n",
    "可以用 interact"
   ]
  },
  {
   "cell_type": "code",
   "execution_count": 4,
   "metadata": {},
   "outputs": [
    {
     "data": {
      "application/vnd.jupyter.widget-view+json": {
       "model_id": "970f757f1ef64112afcae960e56c840a",
       "version_major": 2,
       "version_minor": 0
      },
      "text/plain": [
       "A Jupyter Widget"
      ]
     },
     "metadata": {},
     "output_type": "display_data"
    },
    {
     "data": {
      "text/plain": [
       "<function __main__.加權分數>"
      ]
     },
     "execution_count": 4,
     "metadata": {},
     "output_type": "execute_result"
    }
   ],
   "source": [
    "分數 = [86.5, 79.4, 88.2, 96.5, 86.3, 76.8, 96.1, 78.5, 82.4, 88.6] \n",
    "權重 = {\"土語系\": [2, 2, 0, 1, 0, 0, 0, 1, 1, 0],\n",
    "\"財政系\": [1, 1.5, 0, 1.5, 0, 0, 0, 0, 0, 0],\n",
    "\"金融系\": [1, 1.5, 0, 2, 0, 0, 0, 0, 0, 0],\n",
    "\"國貿系\": [1.5, 2, 0, 2, 0, 0, 0, 0, 0, 0],\n",
    "\"會計系\": [1.5, 2, 0, 2, 0, 0, 0, 1, 1, 0],\n",
    "\"法律系\": [1, 2, 0, 1, 0, 0, 0, 1, 0, 1],\n",
    "\"公行系\": [1, 1.5, 0, 1.25, 0, 0, 0, 0, 0, 1.25],\n",
    "\"應數系\": [1, 1, 1.5, 0, 1, 1, 0, 0, 0, 0],\n",
    "\"教育系\": [1.5, 2, 0, 1.25, 0, 0, 0, 1, 1, 0]} \n",
    "\n",
    "\n",
    "def 加權分數(科系):\n",
    "    x = np.dot(分數,權重[科系])\n",
    "    print(\"你 {} 的加權分數: {:.2f}\".format(科系, x))\n",
    "\n",
    "interact(加權分數,科系 =  [ \"土語系\",\"財政系\", \"金融系\", \"國貿系\",\n",
    "                            \"會計系\",\"法律系\", \"公行系\",\"應數系\",\"教育系\" ])"
   ]
  },
  {
   "cell_type": "markdown",
   "metadata": {},
   "source": [
    "# Challenge Challenge魔鬼挑戰題：\n",
    "（做完可以直接得到一百分）\n",
    "將上週挑戰題一所要求的函式在10行以內寫出來\n",
    "\n",
    " # 挑戰題一：\n",
    "請定義一個全班高微成績的函式，輸入是一個(3, 30, 3)的array，  \n",
    "表示3個班級中30位學生的成績(小考，期中考，期末考)  。\n",
    "\n",
    "目標輸出則是一個(3, 30, 1)的array，表示所有學生的期末成績，\n",
    "期末成績計算方式如下：\n",
    "\n",
    "1. 小考20%，期中考35%，期末考45%  \n",
    "2. 期中考40%，期末考60%。  \n",
    "擇優作為期末成績\n",
    " \n",
    "Hint\n",
    "* 可以用雙重for迴圈 分別跑過班級跟人\n",
    "* 可以先設一個array裝算出來的成績\n",
    "* 記得要用return \n",
    "* 請做個測試，檢驗你的結果，方便同學評分。\n",
    "\n",
    "Hint\n",
    "numpy.dot\n",
    "numpy.where"
   ]
  },
  {
   "cell_type": "code",
   "execution_count": 5,
   "metadata": {},
   "outputs": [
    {
     "name": "stdout",
     "output_type": "stream",
     "text": [
      "[[[60 68  0]\n",
      "  [63 71 40]\n",
      "  [27 66 37]\n",
      "  [19  6 73]\n",
      "  [26 30 69]\n",
      "  [63 95  3]\n",
      "  [28 24 80]\n",
      "  [78 64 97]\n",
      "  [59 33 85]\n",
      "  [56  3 60]\n",
      "  [66 10 37]\n",
      "  [92 31  3]\n",
      "  [18 70  7]\n",
      "  [32 35 28]\n",
      "  [49 68 76]\n",
      "  [28  0 90]\n",
      "  [65 48 36]\n",
      "  [63 97 74]\n",
      "  [34 70 72]\n",
      "  [76 79 27]\n",
      "  [24 66 29]\n",
      "  [42 59 74]\n",
      "  [72 86 67]\n",
      "  [ 2 71 60]\n",
      "  [ 5  4 19]\n",
      "  [70 20 44]\n",
      "  [ 7 63 16]\n",
      "  [87 23  4]\n",
      "  [ 9 26 77]\n",
      "  [61 74 12]]\n",
      "\n",
      " [[91 99 65]\n",
      "  [ 9 71 69]\n",
      "  [31 62 33]\n",
      "  [80 49 99]\n",
      "  [92 83 70]\n",
      "  [ 1 85 72]\n",
      "  [85 86 64]\n",
      "  [11 61 11]\n",
      "  [ 9 37 26]\n",
      "  [36 40 38]\n",
      "  [47 12 83]\n",
      "  [91 61 17]\n",
      "  [32 59  1]\n",
      "  [48 57 54]\n",
      "  [99 96 66]\n",
      "  [15 24 66]\n",
      "  [ 5 30 13]\n",
      "  [67 23 60]\n",
      "  [97 92 38]\n",
      "  [53 66 75]\n",
      "  [10  3 24]\n",
      "  [75 37 39]\n",
      "  [50 69 94]\n",
      "  [52 82 80]\n",
      "  [59 59 23]\n",
      "  [39 95  1]\n",
      "  [ 1 34 10]\n",
      "  [96 15 80]\n",
      "  [61 92 79]\n",
      "  [43 37 87]]\n",
      "\n",
      " [[69 63  2]\n",
      "  [56 52 48]\n",
      "  [19 72 77]\n",
      "  [ 3 86 16]\n",
      "  [23 61 34]\n",
      "  [96 42 83]\n",
      "  [85 57 42]\n",
      "  [ 0 90 92]\n",
      "  [76 19  7]\n",
      "  [56 18 93]\n",
      "  [23  4 88]\n",
      "  [16 59 57]\n",
      "  [20 38 93]\n",
      "  [86 18  5]\n",
      "  [76  1 81]\n",
      "  [28 44 51]\n",
      "  [70 35 88]\n",
      "  [15 66 66]\n",
      "  [25 22 61]\n",
      "  [38 84 28]\n",
      "  [22 38 29]\n",
      "  [54 61 21]\n",
      "  [86 35 99]\n",
      "  [26 51 49]\n",
      "  [13 65 39]\n",
      "  [84 35 45]\n",
      "  [ 9 70 26]\n",
      "  [66 41 31]\n",
      "  [75 85 99]\n",
      "  [98 69 15]]]\n"
     ]
    },
    {
     "data": {
      "text/plain": [
       "array([[ 35.8 ,  55.45,  48.6 ,  46.2 ,  53.4 ,  47.2 ,  57.6 ,  83.8 ,\n",
       "         64.2 ,  39.25,  33.35,  30.6 ,  32.2 ,  31.25,  72.8 ,  54.  ,\n",
       "         46.  ,  83.2 ,  71.2 ,  55.  ,  43.8 ,  68.  ,  74.65,  64.4 ,\n",
       "         13.  ,  40.8 ,  34.8 ,  27.25,  56.6 ,  43.5 ],\n",
       "       [ 82.1 ,  69.8 ,  44.6 ,  79.  ,  78.95,  77.2 ,  75.9 ,  31.  ,\n",
       "         30.4 ,  38.8 ,  54.6 ,  47.2 ,  27.5 ,  55.2 ,  83.1 ,  49.2 ,\n",
       "         19.8 ,  48.45,  68.7 ,  71.4 ,  15.6 ,  45.5 ,  84.  ,  80.8 ,\n",
       "         42.8 ,  41.5 ,  19.6 ,  60.45,  84.2 ,  67.  ],\n",
       "       [ 36.75,  51.  ,  75.  ,  44.  ,  44.8 ,  71.25,  55.85,  91.2 ,\n",
       "         25.  ,  63.  ,  54.4 ,  57.8 ,  71.  ,  25.75,  52.  ,  48.2 ,\n",
       "         66.8 ,  66.  ,  45.4 ,  50.4 ,  32.6 ,  41.6 ,  74.  ,  49.8 ,\n",
       "         49.4 ,  49.3 ,  43.6 ,  41.5 ,  93.4 ,  50.5 ]])"
      ]
     },
     "execution_count": 5,
     "metadata": {},
     "output_type": "execute_result"
    }
   ],
   "source": [
    "x = np.random.randint(0,100,(3,30,3))\n",
    "def 成績擇優(x):\n",
    "    total = np.zeros((3,30,1))\n",
    "    m = np.dot(x,[.2,.35,.45])\n",
    "    n = np.dot(x,[0,.4,.6])\n",
    "    total = n\n",
    "    total[np.where(m > n)] = m[np.where(m > n)]\n",
    "    return total\n",
    "print(x)\n",
    "成績擇優(x)"
   ]
  }
 ],
 "metadata": {
  "kernelspec": {
   "display_name": "Python 3",
   "language": "python",
   "name": "python3"
  },
  "language_info": {
   "codemirror_mode": {
    "name": "ipython",
    "version": 3
   },
   "file_extension": ".py",
   "mimetype": "text/x-python",
   "name": "python",
   "nbconvert_exporter": "python",
   "pygments_lexer": "ipython3",
   "version": "3.6.2"
  }
 },
 "nbformat": 4,
 "nbformat_minor": 2
}
